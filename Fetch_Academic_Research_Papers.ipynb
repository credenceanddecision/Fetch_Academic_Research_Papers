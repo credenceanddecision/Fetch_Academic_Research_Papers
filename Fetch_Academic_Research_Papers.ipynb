{
  "nbformat": 4,
  "nbformat_minor": 0,
  "metadata": {
    "colab": {
      "provenance": []
    },
    "kernelspec": {
      "name": "python3",
      "display_name": "Python 3"
    },
    "language_info": {
      "name": "python"
    }
  },
  "cells": [
    {
      "cell_type": "code",
      "source": [
        "# Clone the repository and install requirements\n",
        "!git clone -q https://github.com/monk1337/resp.git\n",
        "!pip install -r ./resp/requirements.txt\n",
        "\n",
        "# Change directory to the cloned repo\n",
        "%cd /content/resp/"
      ],
      "metadata": {
        "id": "TY99napSLP9P"
      },
      "execution_count": null,
      "outputs": []
    },
    {
      "cell_type": "code",
      "source": [
        "!pip install -q tabulate"
      ],
      "metadata": {
        "id": "WdnWwlnlMLrA"
      },
      "execution_count": 6,
      "outputs": []
    },
    {
      "cell_type": "code",
      "source": [
        "import pandas as pd\n",
        "import matplotlib.pyplot as plt\n",
        "\n",
        "# Import the APIs from the resp package\n",
        "from resp.apis.serp_api import Serp\n",
        "from resp.apis.cnnp import connected_papers\n",
        "from resp.apis.semantic_s import Semantic_Scholar\n",
        "from resp.apis.acm_api import ACM\n",
        "from resp.apis.arxiv_api import Arxiv\n",
        "from resp.resp import Resp4\n",
        "\n",
        "import pandas as pd\n",
        "from tabulate import tabulate"
      ],
      "metadata": {
        "id": "0tSXnkBELNZY"
      },
      "execution_count": 7,
      "outputs": []
    },
    {
      "cell_type": "code",
      "source": [
        "# Define a search term\n",
        "search_term = 'Marketing mix models (MMMs)'"
      ],
      "metadata": {
        "id": "so4gBjMCOFtY"
      },
      "execution_count": null,
      "outputs": []
    },
    {
      "cell_type": "code",
      "source": [
        "# Initialize the APIs\n",
        "ap = Arxiv()\n",
        "ac = ACM()\n",
        "sc = Semantic_Scholar()\n",
        "\n",
        "# Fetch results from Arxiv\n",
        "arxiv_result = ap.arxiv(search_term, max_pages=1)\n",
        "arxiv_top10 = arxiv_result.head(10)\n",
        "\n",
        "# Fetch results from ACM\n",
        "acm_result = ac.acm(search_term, max_pages=1)\n",
        "acm_top10 = acm_result.head(10)\n",
        "\n",
        "# Fetch results from Semantic Scholar\n",
        "sc_result = sc.ss(search_term, max_pages=1)\n",
        "sc_top10 = sc_result.head(10)\n",
        "\n",
        "# This would require actual counts of results which should be available in the respective result dataframes\n",
        "sources = ['Arxiv', 'ACM', 'Semantic Scholar']\n",
        "counts = [len(arxiv_result), len(acm_result), len(sc_result)]"
      ],
      "metadata": {
        "id": "sen5vOPHOHhj"
      },
      "execution_count": null,
      "outputs": []
    },
    {
      "cell_type": "code",
      "source": [
        "plt.bar(sources, counts)\n",
        "plt.title('Number of Results from Each Source')\n",
        "plt.xlabel('Source')\n",
        "plt.ylabel('Count')\n",
        "plt.show()"
      ],
      "metadata": {
        "colab": {
          "base_uri": "https://localhost:8080/",
          "height": 472
        },
        "id": "TMaj-w7ROKhi",
        "outputId": "5dfa0bec-f369-4570-bedc-4e8c78351fbf"
      },
      "execution_count": 13,
      "outputs": [
        {
          "output_type": "display_data",
          "data": {
            "text/plain": [
              "<Figure size 640x480 with 1 Axes>"
            ],
            "image/png": "[encoded data removed]"
          },
          "metadata": {}
        }
      ]
    },
    {
      "cell_type": "code",
      "execution_count": 12,
      "metadata": {
        "colab": {
          "base_uri": "https://localhost:8080/"
        },
        "id": "RWmmeLpbLEZD",
        "outputId": "e645b5f9-d4c4-4142-be7d-394958fee552"
      },
      "outputs": [
        {
          "output_type": "stream",
          "name": "stdout",
          "text": [
            "Top results from Arxiv:\n",
            "+---+-------------------------------------------------------------------------------------------------------------------------------+----------------------------------+\n",
            "|   |                                                             title                                                             |               link               |\n",
            "+---+-------------------------------------------------------------------------------------------------------------------------------+----------------------------------+\n",
            "| 0 | Quantifying Marketing Performance at Channel-Partner Level by Using Marketing Mix Modeling (MMM) and Shapley Value Regression | https://arxiv.org/abs/2401.05653 |\n",
            "| 1 |                            Bayesian Methods for Media Mix Modelling with shape and funnel effects                             | https://arxiv.org/abs/2311.05587 |\n",
            "| 2 |                               A Topical Approach to Capturing Customer Insight In Social Media                                | https://arxiv.org/abs/2307.11775 |\n",
            "| 3 |                      Bayesian Time Varying Coefficient Model with Applications to Marketing Mix Modeling                      | https://arxiv.org/abs/2106.03322 |\n",
            "| 4 |                                    Hierarchical Marketing Mix Models with Sign Constraints                                    | https://arxiv.org/abs/2008.12802 |\n",
            "| 5 |                                     Bias Correction For Paid Search In Media Mix Modeling                                     | https://arxiv.org/abs/1807.03292 |\n",
            "+---+-------------------------------------------------------------------------------------------------------------------------------+----------------------------------+\n",
            "Top results from ACM:\n",
            "+---+------------------------------------------------------------------------------------------------------------------------------+----------------------------------------------------+\n",
            "|   |                                                            title                                                             |                        link                        |\n",
            "+---+------------------------------------------------------------------------------------------------------------------------------+----------------------------------------------------+\n",
            "| 0 |                             SMOILE: A Shopper Marketing Optimization and Inverse Learning Engine                             | https://dl.acm.org/doi/pdf/10.1145/3292500.3330788 |\n",
            "| 1 |                                          Investigating MMM Ponzi Scheme on Bitcoin                                           | https://dl.acm.org/doi/pdf/10.1145/3320269.3384719 |\n",
            "| 2 |                                           Market Making with Scaled Beta Policies                                            | https://dl.acm.org/doi/pdf/10.1145/3533271.3561745 |\n",
            "| 3 |           An Artificial Neural Network-based Stock Trading System Using Technical Analysis and Big Data Framework            | https://dl.acm.org/doi/pdf/10.1145/3077286.3077294 |\n",
            "| 4 |                         The Seasonality Of Paid Search Effectiveness From A Long Running Field Test                          | https://dl.acm.org/doi/pdf/10.1145/2940716.2940717 |\n",
            "| 5 | Formulating a marketing strategy of SME through a combination of 9Ps of marketing mix and Porter's five forces: a case study | https://dl.acm.org/doi/pdf/10.1145/3226116.3226136 |\n",
            "| 6 |                       Service marketing mix and service value: a way to increase customer satisfaction                       | https://dl.acm.org/doi/pdf/10.1145/3361785.3361800 |\n",
            "| 7 |                           Stock Price Prediction via Discovering Multi-Frequency Trading Patterns                            | https://dl.acm.org/doi/pdf/10.1145/3097983.3098117 |\n",
            "| 8 |                    Agent based simulation marketing mix model for budget management in cosmetic industry                     | https://dl.acm.org/doi/pdf/10.5555/3320516.3321014 |\n",
            "| 9 |                          Collective Spammer Detection in Evolving Multi-Relational Social Networks                           | https://dl.acm.org/doi/pdf/10.1145/2783258.2788606 |\n",
            "+---+------------------------------------------------------------------------------------------------------------------------------+----------------------------------------------------+\n",
            "Top results from Semantic Scholar:\n",
            "+---+--------------------------------------------------------------------------------------------------------------------------------------------------------+----------------------------------------------------------------------------------------------+\n",
            "|   |                                                                         title                                                                          |                                             link                                             |\n",
            "+---+--------------------------------------------------------------------------------------------------------------------------------------------------------+----------------------------------------------------------------------------------------------+\n",
            "| 0 |                                                Hierarchical marketing mix models with sign constraints                                                 |                        https://doi.org/10.1080/02664763.2021.1946020                         |\n",
            "| 1 |                                          SMOILE: A Shopper Marketing Optimization and Inverse Learning Engine                                          |                          http://dl.acm.org/citation.cfm?id=3330788                           |\n",
            "| 2 |                                                          Understanding E-Marketing Mix Models                                                          |                          https://doi.org/10.37218/1426-008-001-009                           |\n",
            "| 3 |                                                     Marketing Mix and New Product Diffusion Models                                                     |                         https://doi.org/10.1016/j.procs.2022.08.107                          |\n",
            "| 4 |                   Calculation of marketing ROI in marketing mix models, from ROMI, to marketing-created value for shareholders, EVAM                   |                       https://www.redalyc.org/pdf/433/43348820001.pdf                        |\n",
            "| 5 |                                                      Multiple Regression and Marketing-Mix Models                                                      |                 https://papers.ssrn.com/sol3/papers.cfm?abstract_id=2974720                  |\n",
            "| 6 |                                           Marketing Mix Modelling: A comparative study of statistical models                                           |                                        no_link_found                                         |\n",
            "| 7 |                 The Digital Transformation of the Marketing Mix in the Food and Beverage Service Supply Chain: A Grey DEMATEL Approach                 |                             https://doi.org/10.3390/su142215228                              |\n",
            "| 8 |                          Differences Between Supplier and Customer Experiences of Marketing Mix in the Construction Industry                           |                          https://doi.org/10.3389/fbuil.2022.811186                           |\n",
            "| 9 | Applying Machine Learning to Study the Marketing Mix’s Effectiveness in a Social Marketing Context: Fashion Brands’ Twitter Activities in the Pandemic | https://www.igi-global.com/pdf.aspx?ctid=4&isxn=9781668483732&oa=true&ptid=313414&tid=313416 |\n",
            "+---+--------------------------------------------------------------------------------------------------------------------------------------------------------+----------------------------------------------------------------------------------------------+\n"
          ]
        }
      ],
      "source": [
        "# Print the top 10 results from Arxiv in a pretty table\n",
        "print(\"Top results from Arxiv:\")\n",
        "print(tabulate(arxiv_top10, headers='keys', tablefmt='pretty'))\n",
        "\n",
        "# Print the top 10 results from ACM in a pretty table\n",
        "print(\"Top results from ACM:\")\n",
        "print(tabulate(acm_top10, headers='keys', tablefmt='pretty'))\n",
        "\n",
        "# Print the top 10 results from Semantic Scholar in a pretty table\n",
        "print(\"Top results from Semantic Scholar:\")\n",
        "print(tabulate(sc_top10, headers='keys', tablefmt='pretty'))\n",
        "\n",
        "# Save the complete outputs to CSV files\n",
        "arxiv_result.to_csv('/content/arxiv_results.csv', index=False)\n",
        "acm_result.to_csv('/content/acm_results.csv', index=False)\n",
        "sc_result.to_csv('/content/semantic_scholar_results.csv', index=False)\n"
      ]
    }
  ]
}